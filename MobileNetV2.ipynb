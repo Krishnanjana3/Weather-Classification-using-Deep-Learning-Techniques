{
 "cells": [
  {
   "cell_type": "markdown",
   "id": "fe4489a2",
   "metadata": {},
   "source": [
    "# MobileNetV2"
   ]
  },
  {
   "cell_type": "code",
   "execution_count": 1,
   "id": "e7d7d6b3",
   "metadata": {},
   "outputs": [
    {
     "name": "stdout",
     "output_type": "stream",
     "text": [
      "WARNING:tensorflow:From C:\\Users\\User\\OneDrive\\anaconda4\\lib\\site-packages\\keras\\src\\losses.py:2976: The name tf.losses.sparse_softmax_cross_entropy is deprecated. Please use tf.compat.v1.losses.sparse_softmax_cross_entropy instead.\n",
      "\n"
     ]
    }
   ],
   "source": [
    "import os\n",
    "import shutil\n",
    "import random\n",
    "import tensorflow as tf\n",
    "from tensorflow.keras.applications import MobileNetV2\n",
    "from tensorflow.keras.layers import Dense, Dropout, GlobalAveragePooling2D\n",
    "from tensorflow.keras.models import Model\n",
    "from tensorflow.keras.optimizers import Adam\n",
    "from tensorflow.keras.preprocessing.image import ImageDataGenerator\n",
    "import matplotlib.pyplot as plt\n",
    "import numpy as np\n",
    "import random"
   ]
  },
  {
   "cell_type": "code",
   "execution_count": 2,
   "id": "c692c2a5",
   "metadata": {},
   "outputs": [],
   "source": [
    "# Define parameters\n",
    "batch_size = 32\n",
    "epochs = 29\n",
    "image_size = (224, 224)  # Image size expected by MobileNetV2\n",
    "np.random.seed(42)\n",
    "random.seed(42)\n",
    "tf.random.set_seed(42)"
   ]
  },
  {
   "cell_type": "code",
   "execution_count": 3,
   "id": "fe54ffac",
   "metadata": {},
   "outputs": [
    {
     "name": "stdout",
     "output_type": "stream",
     "text": [
      "Found 5505 images belonging to 11 classes.\n",
      "Found 1372 images belonging to 11 classes.\n"
     ]
    }
   ],
   "source": [
    "# Define parameters\n",
    "batch_size = 32\n",
    "epochs = 29\n",
    "image_size = (224, 224)  # Image size expected by MobileNetV2\n",
    "np.random.seed(42)\n",
    "random.seed(42)\n",
    "tf.random.set_seed(42)"
   ]
  },
  {
   "cell_type": "code",
   "execution_count": null,
   "id": "83d802e6",
   "metadata": {},
   "outputs": [],
   "source": [
    "train_datagen = ImageDataGenerator(rescale=1./255, validation_split=0.2)\n",
    "\n",
    "train_generator = train_datagen.flow_from_directory(\n",
    "    'C:\\dataset',\n",
    "    target_size=image_size,\n",
    "    batch_size=batch_size,\n",
    "    class_mode='categorical',  # use 'categorical' for multiple classes\n",
    "    subset='training'\n",
    ")\n",
    "\n",
    "validation_generator = train_datagen.flow_from_directory(\n",
    "    'C:\\dataset',\n",
    "    target_size=image_size,\n",
    "    batch_size=batch_size,\n",
    "    class_mode='categorical',  # use 'categorical' for multiple classes\n",
    "    subset='validation'\n",
    ")\n"
   ]
  },
  {
   "cell_type": "code",
   "execution_count": 4,
   "id": "e0036180",
   "metadata": {},
   "outputs": [
    {
     "name": "stdout",
     "output_type": "stream",
     "text": [
      "WARNING:tensorflow:From C:\\Users\\User\\OneDrive\\anaconda4\\lib\\site-packages\\keras\\src\\backend.py:1398: The name tf.executing_eagerly_outside_functions is deprecated. Please use tf.compat.v1.executing_eagerly_outside_functions instead.\n",
      "\n",
      "WARNING:tensorflow:From C:\\Users\\User\\OneDrive\\anaconda4\\lib\\site-packages\\keras\\src\\layers\\normalization\\batch_normalization.py:979: The name tf.nn.fused_batch_norm is deprecated. Please use tf.compat.v1.nn.fused_batch_norm instead.\n",
      "\n"
     ]
    }
   ],
   "source": [
    "# Load MobileNetV2 pre-trained on ImageNet\n",
    "base_model = MobileNetV2(weights='imagenet', include_top=False, input_shape=(image_size[0], image_size[1], 3))"
   ]
  },
  {
   "cell_type": "code",
   "execution_count": 5,
   "id": "c11fac5c",
   "metadata": {},
   "outputs": [],
   "source": [
    "# Add custom classification head\n",
    "x = base_model.output\n",
    "x = GlobalAveragePooling2D()(x)\n",
    "x = Dense(1024, activation='relu')(x)\n",
    "x = Dropout(0.5)(x)  \n",
    "x = Dense(512, activation='relu')(x)\n",
    "x = Dropout(0.5)(x)\n",
    "x = Dense(256, activation='relu')(x)\n",
    "x = Dropout(0.5)(x)\n",
    "x = Dense(32, activation='relu')(x) \n",
    "predictions = Dense(11, activation='softmax')(x)  # Adjust output neurons based on your problem (11 classes)"
   ]
  },
  {
   "cell_type": "code",
   "execution_count": 6,
   "id": "6422349d",
   "metadata": {},
   "outputs": [],
   "source": [
    "# Combine base model and custom head\n",
    "model = Model(inputs=base_model.input, outputs=predictions)"
   ]
  },
  {
   "cell_type": "code",
   "execution_count": 7,
   "id": "5a2af161",
   "metadata": {},
   "outputs": [],
   "source": [
    "# Freeze layers in the base model\n",
    "for layer in base_model.layers:\n",
    "    layer.trainable = False"
   ]
  },
  {
   "cell_type": "code",
   "execution_count": 8,
   "id": "1af133ed",
   "metadata": {},
   "outputs": [
    {
     "name": "stdout",
     "output_type": "stream",
     "text": [
      "WARNING:tensorflow:From C:\\Users\\User\\OneDrive\\anaconda4\\lib\\site-packages\\keras\\src\\optimizers\\__init__.py:309: The name tf.train.Optimizer is deprecated. Please use tf.compat.v1.train.Optimizer instead.\n",
      "\n"
     ]
    }
   ],
   "source": [
    "# Compile the model\n",
    "model.compile(optimizer='adam',\n",
    "              loss='categorical_crossentropy',  # use 'categorical_crossentropy' for multiple classes\n",
    "              metrics=['accuracy'])"
   ]
  },
  {
   "cell_type": "code",
   "execution_count": 9,
   "id": "7fc089c6",
   "metadata": {},
   "outputs": [
    {
     "name": "stdout",
     "output_type": "stream",
     "text": [
      "Epoch 1/29\n",
      "WARNING:tensorflow:From C:\\Users\\User\\OneDrive\\anaconda4\\lib\\site-packages\\keras\\src\\utils\\tf_utils.py:492: The name tf.ragged.RaggedTensorValue is deprecated. Please use tf.compat.v1.ragged.RaggedTensorValue instead.\n",
      "\n",
      "WARNING:tensorflow:From C:\\Users\\User\\OneDrive\\anaconda4\\lib\\site-packages\\keras\\src\\engine\\base_layer_utils.py:384: The name tf.executing_eagerly_outside_functions is deprecated. Please use tf.compat.v1.executing_eagerly_outside_functions instead.\n",
      "\n",
      "172/172 [==============================] - 152s 850ms/step - loss: 1.7708 - accuracy: 0.3808 - val_loss: 0.8726 - val_accuracy: 0.6830\n",
      "Epoch 2/29\n",
      "172/172 [==============================] - 99s 578ms/step - loss: 0.9356 - accuracy: 0.6629 - val_loss: 0.5947 - val_accuracy: 0.7887\n",
      "Epoch 3/29\n",
      "172/172 [==============================] - 133s 772ms/step - loss: 0.7507 - accuracy: 0.7416 - val_loss: 0.5762 - val_accuracy: 0.7961\n",
      "Epoch 4/29\n",
      "172/172 [==============================] - 144s 835ms/step - loss: 0.6480 - accuracy: 0.7738 - val_loss: 0.5295 - val_accuracy: 0.8214\n",
      "Epoch 5/29\n",
      "172/172 [==============================] - 254s 1s/step - loss: 0.5740 - accuracy: 0.8034 - val_loss: 0.4970 - val_accuracy: 0.8333\n",
      "Epoch 6/29\n",
      "172/172 [==============================] - 109s 636ms/step - loss: 0.5244 - accuracy: 0.8204 - val_loss: 0.5114 - val_accuracy: 0.8170\n",
      "Epoch 7/29\n",
      "172/172 [==============================] - 98s 568ms/step - loss: 0.4908 - accuracy: 0.8288 - val_loss: 0.5129 - val_accuracy: 0.8207\n",
      "Epoch 8/29\n",
      "172/172 [==============================] - 97s 563ms/step - loss: 0.4573 - accuracy: 0.8469 - val_loss: 0.5246 - val_accuracy: 0.8348\n",
      "Epoch 9/29\n",
      "172/172 [==============================] - 97s 563ms/step - loss: 0.4356 - accuracy: 0.8504 - val_loss: 0.5101 - val_accuracy: 0.8333\n",
      "Epoch 10/29\n",
      "172/172 [==============================] - 95s 554ms/step - loss: 0.3879 - accuracy: 0.8664 - val_loss: 0.5112 - val_accuracy: 0.8378\n",
      "Epoch 11/29\n",
      "172/172 [==============================] - 91s 529ms/step - loss: 0.3685 - accuracy: 0.8712 - val_loss: 0.4829 - val_accuracy: 0.8400\n",
      "Epoch 12/29\n",
      "172/172 [==============================] - 91s 531ms/step - loss: 0.3583 - accuracy: 0.8812 - val_loss: 0.5186 - val_accuracy: 0.8430\n",
      "Epoch 13/29\n",
      "172/172 [==============================] - 92s 537ms/step - loss: 0.3281 - accuracy: 0.8904 - val_loss: 0.4761 - val_accuracy: 0.8482\n",
      "Epoch 14/29\n",
      "172/172 [==============================] - 92s 535ms/step - loss: 0.3289 - accuracy: 0.8854 - val_loss: 0.5267 - val_accuracy: 0.8408\n",
      "Epoch 15/29\n",
      "172/172 [==============================] - 92s 532ms/step - loss: 0.3388 - accuracy: 0.8858 - val_loss: 0.5888 - val_accuracy: 0.8289\n",
      "Epoch 16/29\n",
      "172/172 [==============================] - 92s 535ms/step - loss: 0.3170 - accuracy: 0.8946 - val_loss: 0.5467 - val_accuracy: 0.8467\n",
      "Epoch 17/29\n",
      "172/172 [==============================] - 99s 578ms/step - loss: 0.2849 - accuracy: 0.9054 - val_loss: 0.4919 - val_accuracy: 0.8497\n",
      "Epoch 18/29\n",
      "172/172 [==============================] - 123s 713ms/step - loss: 0.2530 - accuracy: 0.9161 - val_loss: 0.5573 - val_accuracy: 0.8475\n",
      "Epoch 19/29\n",
      "172/172 [==============================] - 175s 1s/step - loss: 0.2631 - accuracy: 0.9088 - val_loss: 0.5933 - val_accuracy: 0.8400\n",
      "Epoch 20/29\n",
      "172/172 [==============================] - 175s 1s/step - loss: 0.2207 - accuracy: 0.9249 - val_loss: 0.5884 - val_accuracy: 0.8482\n",
      "Epoch 21/29\n",
      "172/172 [==============================] - 177s 1s/step - loss: 0.2471 - accuracy: 0.9156 - val_loss: 0.5855 - val_accuracy: 0.8482\n",
      "Epoch 22/29\n",
      "172/172 [==============================] - 176s 1s/step - loss: 0.2169 - accuracy: 0.9244 - val_loss: 0.5532 - val_accuracy: 0.8490\n",
      "Epoch 23/29\n",
      "172/172 [==============================] - 174s 1s/step - loss: 0.2255 - accuracy: 0.9212 - val_loss: 0.5853 - val_accuracy: 0.8504\n",
      "Epoch 24/29\n",
      "172/172 [==============================] - 178s 1s/step - loss: 0.2045 - accuracy: 0.9322 - val_loss: 0.6180 - val_accuracy: 0.8534\n",
      "Epoch 25/29\n",
      "172/172 [==============================] - 172s 998ms/step - loss: 0.1886 - accuracy: 0.9404 - val_loss: 0.5883 - val_accuracy: 0.8564\n",
      "Epoch 26/29\n",
      "172/172 [==============================] - 165s 959ms/step - loss: 0.1657 - accuracy: 0.9452 - val_loss: 0.5636 - val_accuracy: 0.8586\n",
      "Epoch 27/29\n",
      "172/172 [==============================] - 166s 960ms/step - loss: 0.1840 - accuracy: 0.9406 - val_loss: 0.6212 - val_accuracy: 0.8534\n",
      "Epoch 28/29\n",
      "172/172 [==============================] - 132s 770ms/step - loss: 0.1572 - accuracy: 0.9474 - val_loss: 0.5754 - val_accuracy: 0.8564\n",
      "Epoch 29/29\n",
      "172/172 [==============================] - 182s 1s/step - loss: 0.1631 - accuracy: 0.9512 - val_loss: 0.5885 - val_accuracy: 0.8549\n"
     ]
    }
   ],
   "source": [
    "# Train the model\n",
    "history = model.fit(\n",
    "    train_generator,\n",
    "    steps_per_epoch=train_generator.samples // batch_size,\n",
    "    epochs=epochs,\n",
    "    validation_data=validation_generator,\n",
    "    validation_steps=validation_generator.samples // batch_size\n",
    ")"
   ]
  },
  {
   "cell_type": "code",
   "execution_count": 10,
   "id": "18d65816",
   "metadata": {},
   "outputs": [
    {
     "name": "stdout",
     "output_type": "stream",
     "text": [
      "43/43 [==============================] - 33s 747ms/step - loss: 0.5872 - accuracy: 0.8542\n",
      "Validation Loss: 0.5871989727020264\n",
      "Validation Accuracy: 0.8542274236679077\n"
     ]
    }
   ],
   "source": [
    "# Evaluate the model on validation set\n",
    "loss, accuracy = model.evaluate(validation_generator)\n",
    "print(\"Validation Loss:\", loss)\n",
    "print(\"Validation Accuracy:\", accuracy)\n"
   ]
  },
  {
   "cell_type": "code",
   "execution_count": 12,
   "id": "a1000642",
   "metadata": {},
   "outputs": [],
   "source": [
    "# Save the model\n",
    "model.save('MobileNetV2_model.h5')\n",
    "\n",
    "#save history\n",
    "import pickle\n",
    "with open('MobileNetV2_history.pkl', 'wb') as file:\n",
    "    pickle.dump(history.history, file)"
   ]
  },
  {
   "cell_type": "code",
   "execution_count": null,
   "id": "317287c9",
   "metadata": {},
   "outputs": [],
   "source": []
  }
 ],
 "metadata": {
  "kernelspec": {
   "display_name": "Python 3 (ipykernel)",
   "language": "python",
   "name": "python3"
  },
  "language_info": {
   "codemirror_mode": {
    "name": "ipython",
    "version": 3
   },
   "file_extension": ".py",
   "mimetype": "text/x-python",
   "name": "python",
   "nbconvert_exporter": "python",
   "pygments_lexer": "ipython3",
   "version": "3.10.9"
  }
 },
 "nbformat": 4,
 "nbformat_minor": 5
}
